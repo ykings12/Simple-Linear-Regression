{
 "cells": [
  {
   "cell_type": "markdown",
   "id": "b238ead5",
   "metadata": {},
   "source": [
    "# This is simple linear regression model on a simple dataset having x and y values in the dataset."
   ]
  },
  {
   "cell_type": "code",
   "execution_count": 59,
   "id": "0a7d0dd7",
   "metadata": {},
   "outputs": [],
   "source": [
    "import pandas as pd\n",
    "import numpy as np\n",
    "import matplotlib.pyplot as plt\n"
   ]
  },
  {
   "cell_type": "code",
   "execution_count": 60,
   "id": "a9a5bd05",
   "metadata": {},
   "outputs": [],
   "source": [
    "df1=pd.read_csv('train.csv')\n",
    "df2=pd.read_csv('test.csv')\n",
    "df1=df1[np.isfinite(df1).all(1)]\n",
    "df2=df2[np.isfinite(df2).all(1)]"
   ]
  },
  {
   "cell_type": "code",
   "execution_count": 65,
   "id": "d37e5fdc",
   "metadata": {},
   "outputs": [
    {
     "data": {
      "text/plain": [
       "(699,)"
      ]
     },
     "execution_count": 65,
     "metadata": {},
     "output_type": "execute_result"
    }
   ],
   "source": [
    "df1['x'].shape"
   ]
  },
  {
   "cell_type": "code",
   "execution_count": 66,
   "id": "ec23fd8b",
   "metadata": {},
   "outputs": [
    {
     "data": {
      "text/plain": [
       "(699,)"
      ]
     },
     "execution_count": 66,
     "metadata": {},
     "output_type": "execute_result"
    }
   ],
   "source": [
    "df1['y'].shape"
   ]
  },
  {
   "cell_type": "code",
   "execution_count": 69,
   "id": "63828e30",
   "metadata": {},
   "outputs": [
    {
     "data": {
      "text/plain": [
       "Text(0, 0.5, 'y')"
      ]
     },
     "execution_count": 69,
     "metadata": {},
     "output_type": "execute_result"
    },
    {
     "data": {
      "image/png": "[encoded data removed]",
      "text/plain": [
       "<Figure size 432x288 with 1 Axes>"
      ]
     },
     "metadata": {
      "needs_background": "light"
     },
     "output_type": "display_data"
    }
   ],
   "source": [
    "plt.scatter(df1['x'],df1['y'])\n",
    "plt.xlabel('x')\n",
    "plt.ylabel('y')"
   ]
  },
  {
   "cell_type": "code",
   "execution_count": 37,
   "id": "2f39cc1f",
   "metadata": {},
   "outputs": [
    {
     "data": {
      "text/html": [
       "<div>\n",
       "<style scoped>\n",
       "    .dataframe tbody tr th:only-of-type {\n",
       "        vertical-align: middle;\n",
       "    }\n",
       "\n",
       "    .dataframe tbody tr th {\n",
       "        vertical-align: top;\n",
       "    }\n",
       "\n",
       "    .dataframe thead th {\n",
       "        text-align: right;\n",
       "    }\n",
       "</style>\n",
       "<table border=\"1\" class=\"dataframe\">\n",
       "  <thead>\n",
       "    <tr style=\"text-align: right;\">\n",
       "      <th></th>\n",
       "      <th>x</th>\n",
       "      <th>y</th>\n",
       "    </tr>\n",
       "  </thead>\n",
       "  <tbody>\n",
       "    <tr>\n",
       "      <th>0</th>\n",
       "      <td>24.0</td>\n",
       "      <td>21.549452</td>\n",
       "    </tr>\n",
       "    <tr>\n",
       "      <th>1</th>\n",
       "      <td>50.0</td>\n",
       "      <td>47.464463</td>\n",
       "    </tr>\n",
       "    <tr>\n",
       "      <th>2</th>\n",
       "      <td>15.0</td>\n",
       "      <td>17.218656</td>\n",
       "    </tr>\n",
       "    <tr>\n",
       "      <th>3</th>\n",
       "      <td>38.0</td>\n",
       "      <td>36.586398</td>\n",
       "    </tr>\n",
       "    <tr>\n",
       "      <th>4</th>\n",
       "      <td>87.0</td>\n",
       "      <td>87.288984</td>\n",
       "    </tr>\n",
       "  </tbody>\n",
       "</table>\n",
       "</div>"
      ],
      "text/plain": [
       "      x          y\n",
       "0  24.0  21.549452\n",
       "1  50.0  47.464463\n",
       "2  15.0  17.218656\n",
       "3  38.0  36.586398\n",
       "4  87.0  87.288984"
      ]
     },
     "execution_count": 37,
     "metadata": {},
     "output_type": "execute_result"
    }
   ],
   "source": [
    "df1.head()"
   ]
  },
  {
   "cell_type": "code",
   "execution_count": 38,
   "id": "fca0593f",
   "metadata": {},
   "outputs": [
    {
     "data": {
      "text/html": [
       "<div>\n",
       "<style scoped>\n",
       "    .dataframe tbody tr th:only-of-type {\n",
       "        vertical-align: middle;\n",
       "    }\n",
       "\n",
       "    .dataframe tbody tr th {\n",
       "        vertical-align: top;\n",
       "    }\n",
       "\n",
       "    .dataframe thead th {\n",
       "        text-align: right;\n",
       "    }\n",
       "</style>\n",
       "<table border=\"1\" class=\"dataframe\">\n",
       "  <thead>\n",
       "    <tr style=\"text-align: right;\">\n",
       "      <th></th>\n",
       "      <th>x</th>\n",
       "      <th>y</th>\n",
       "    </tr>\n",
       "  </thead>\n",
       "  <tbody>\n",
       "    <tr>\n",
       "      <th>0</th>\n",
       "      <td>77</td>\n",
       "      <td>79.775152</td>\n",
       "    </tr>\n",
       "    <tr>\n",
       "      <th>1</th>\n",
       "      <td>21</td>\n",
       "      <td>23.177279</td>\n",
       "    </tr>\n",
       "    <tr>\n",
       "      <th>2</th>\n",
       "      <td>22</td>\n",
       "      <td>25.609262</td>\n",
       "    </tr>\n",
       "    <tr>\n",
       "      <th>3</th>\n",
       "      <td>20</td>\n",
       "      <td>17.857388</td>\n",
       "    </tr>\n",
       "    <tr>\n",
       "      <th>4</th>\n",
       "      <td>36</td>\n",
       "      <td>41.849864</td>\n",
       "    </tr>\n",
       "  </tbody>\n",
       "</table>\n",
       "</div>"
      ],
      "text/plain": [
       "    x          y\n",
       "0  77  79.775152\n",
       "1  21  23.177279\n",
       "2  22  25.609262\n",
       "3  20  17.857388\n",
       "4  36  41.849864"
      ]
     },
     "execution_count": 38,
     "metadata": {},
     "output_type": "execute_result"
    }
   ],
   "source": [
    "df2.head()"
   ]
  },
  {
   "cell_type": "code",
   "execution_count": 39,
   "id": "357dbaa7",
   "metadata": {},
   "outputs": [],
   "source": [
    "##Separating the independent and dependent columns"
   ]
  },
  {
   "cell_type": "code",
   "execution_count": 48,
   "id": "c29fea41",
   "metadata": {},
   "outputs": [],
   "source": [
    "x_train=df1.iloc[:,0:1]\n",
    "y_train=df1.iloc[:,1:2]\n",
    "\n"
   ]
  },
  {
   "cell_type": "code",
   "execution_count": 41,
   "id": "00079109",
   "metadata": {},
   "outputs": [],
   "source": [
    "# from sklearn.model_selection import train_test_split"
   ]
  },
  {
   "cell_type": "code",
   "execution_count": 72,
   "id": "804771ce",
   "metadata": {},
   "outputs": [],
   "source": [
    "# x_train,x_test,y_train,y_test=train_test_split()\n",
    "x_test=df2.iloc[:,0:1].values\n",
    "y_test=df2.iloc[:,1:2].values"
   ]
  },
  {
   "cell_type": "code",
   "execution_count": 73,
   "id": "a02c0527",
   "metadata": {},
   "outputs": [],
   "source": [
    "from sklearn.linear_model import LinearRegression"
   ]
  },
  {
   "cell_type": "code",
   "execution_count": 74,
   "id": "53c85423",
   "metadata": {},
   "outputs": [],
   "source": [
    "lr= LinearRegression()"
   ]
  },
  {
   "cell_type": "code",
   "execution_count": 75,
   "id": "d1d10b7e",
   "metadata": {},
   "outputs": [
    {
     "data": {
      "text/plain": [
       "LinearRegression()"
      ]
     },
     "execution_count": 75,
     "metadata": {},
     "output_type": "execute_result"
    }
   ],
   "source": [
    "lr.fit(x_train,y_train)"
   ]
  },
  {
   "cell_type": "code",
   "execution_count": 76,
   "id": "81463de2",
   "metadata": {},
   "outputs": [
    {
     "ename": "AttributeError",
     "evalue": "'numpy.ndarray' object has no attribute 'iloc'",
     "output_type": "error",
     "traceback": [
      "\u001b[1;31m---------------------------------------------------------------------------\u001b[0m",
      "\u001b[1;31mAttributeError\u001b[0m                            Traceback (most recent call last)",
      "Input \u001b[1;32mIn [76]\u001b[0m, in \u001b[0;36m<cell line: 1>\u001b[1;34m()\u001b[0m\n\u001b[1;32m----> 1\u001b[0m lr\u001b[38;5;241m.\u001b[39mpredict(\u001b[43mx_test\u001b[49m\u001b[38;5;241;43m.\u001b[39;49m\u001b[43miloc\u001b[49m[\u001b[38;5;241m0\u001b[39m]\u001b[38;5;241m.\u001b[39mvalues\u001b[38;5;241m.\u001b[39mreshape(\u001b[38;5;241m1\u001b[39m,\u001b[38;5;241m1\u001b[39m))\n",
      "\u001b[1;31mAttributeError\u001b[0m: 'numpy.ndarray' object has no attribute 'iloc'"
     ]
    }
   ],
   "source": [
    "lr.predict(x_test.iloc[0].values.reshape(1,1))"
   ]
  },
  {
   "cell_type": "code",
   "execution_count": 77,
   "id": "03c5ef3c",
   "metadata": {},
   "outputs": [
    {
     "name": "stderr",
     "output_type": "stream",
     "text": [
      "C:\\Users\\yashs\\anaconda3\\lib\\site-packages\\sklearn\\base.py:450: UserWarning: X does not have valid feature names, but LinearRegression was fitted with feature names\n",
      "  warnings.warn(\n"
     ]
    },
    {
     "data": {
      "image/png": "[encoded data removed]",
      "text/plain": [
       "<Figure size 432x288 with 1 Axes>"
      ]
     },
     "metadata": {
      "needs_background": "light"
     },
     "output_type": "display_data"
    }
   ],
   "source": [
    "plt.scatter(df1['y'],df1['x'])\n",
    "plt.plot(x_test,lr.predict(x_test),color='red')\n",
    "plt.xlabel('x')\n",
    "plt.ylabel('y')\n",
    "plt.show()"
   ]
  },
  {
   "cell_type": "code",
   "execution_count": 54,
   "id": "5efdcbf5",
   "metadata": {},
   "outputs": [],
   "source": [
    "from sklearn.metrics import mean_absolute_error, mean_squared_error,r2_score"
   ]
  },
  {
   "cell_type": "code",
   "execution_count": 55,
   "id": "8fcdee62",
   "metadata": {},
   "outputs": [],
   "source": [
    "y_pred= lr.predict(x_test)"
   ]
  },
  {
   "cell_type": "code",
   "execution_count": 57,
   "id": "c4d99788",
   "metadata": {},
   "outputs": [
    {
     "data": {
      "text/plain": [
       "array([[ 79.77515201],\n",
       "       [ 23.17727887],\n",
       "       [ 25.60926156],\n",
       "       [ 17.85738813],\n",
       "       [ 41.84986439],\n",
       "       [  9.80523488],\n",
       "       [ 58.87465933],\n",
       "       [ 97.61793701],\n",
       "       [ 18.39512747],\n",
       "       [  8.74674765],\n",
       "       [  2.81141583],\n",
       "       [ 17.09537241],\n",
       "       [ 95.14907176],\n",
       "       [ 61.38800663],\n",
       "       [ 40.24701716],\n",
       "       [ 14.82248589],\n",
       "       [ 66.95806869],\n",
       "       [ 16.63507984],\n",
       "       [ 90.65513736],\n",
       "       [ 77.22982636],\n",
       "       [ 92.11906278],\n",
       "       [ 46.91387709],\n",
       "       [ 89.82634442],\n",
       "       [ 21.71380347],\n",
       "       [ 97.41206981],\n",
       "       [ 57.01631363],\n",
       "       [ 78.31056542],\n",
       "       [ 19.1315097 ],\n",
       "       [ 93.03483388],\n",
       "       [ 26.59112396],\n",
       "       [ 97.55155344],\n",
       "       [ 31.43524822],\n",
       "       [ 35.12724777],\n",
       "       [ 78.61042432],\n",
       "       [ 33.07112825],\n",
       "       [ 51.69967172],\n",
       "       [ 53.62235225],\n",
       "       [ 69.46306072],\n",
       "       [ 27.42497237],\n",
       "       [ 36.34644189],\n",
       "       [ 95.06140858],\n",
       "       [ 68.16724757],\n",
       "       [ 50.96155532],\n",
       "       [ 78.04237454],\n",
       "       [  5.60766487],\n",
       "       [ 36.11334779],\n",
       "       [ 67.2352155 ],\n",
       "       [ 65.01324035],\n",
       "       [ 38.14753871],\n",
       "       [ 34.31141446],\n",
       "       [ 95.28503937],\n",
       "       [ 87.84749912],\n",
       "       [ 54.08170635],\n",
       "       [ 31.93063515],\n",
       "       [ 59.61247085],\n",
       "       [ -1.04011421],\n",
       "       [ 47.49374765],\n",
       "       [ 62.60089773],\n",
       "       [ 70.9146434 ],\n",
       "       [ 56.14834113],\n",
       "       [ 14.05572877],\n",
       "       [ 68.11367147],\n",
       "       [ 75.59701346],\n",
       "       [ 59.225745  ],\n",
       "       [ 85.45504157],\n",
       "       [ 17.76197116],\n",
       "       [ 38.68888682],\n",
       "       [ 50.96343637],\n",
       "       [ 51.83503872],\n",
       "       [ 17.0761107 ],\n",
       "       [ 46.56141773],\n",
       "       [ 10.34754461],\n",
       "       [ 77.91032969],\n",
       "       [ 50.17008622],\n",
       "       [ 13.25690647],\n",
       "       [ 31.32274932],\n",
       "       [ 73.9308764 ],\n",
       "       [ 74.45114379],\n",
       "       [ 52.01932286],\n",
       "       [ 83.68820499],\n",
       "       [ 70.3698748 ],\n",
       "       [ 23.44479161],\n",
       "       [ 49.83051801],\n",
       "       [ 49.88226593],\n",
       "       [ 41.04525583],\n",
       "       [ 33.37834391],\n",
       "       [ 81.29750133],\n",
       "       [105.5918375 ],\n",
       "       [ 56.82457013],\n",
       "       [ 48.67252645],\n",
       "       [ 67.02150613],\n",
       "       [ 38.43076389],\n",
       "       [ 58.61466887],\n",
       "       [ 89.12377509],\n",
       "       [ 60.9105427 ],\n",
       "       [ 13.83959878],\n",
       "       [ 16.89085185],\n",
       "       [ 84.06676818],\n",
       "       [ 70.34969772],\n",
       "       [ 33.38474138],\n",
       "       [ -1.63296825],\n",
       "       [ 88.54475895],\n",
       "       [ 17.44047622],\n",
       "       [ 75.69298554],\n",
       "       [ 41.97607107],\n",
       "       [ 12.59244741],\n",
       "       [  0.27530726],\n",
       "       [ 98.13258005],\n",
       "       [ 87.45721555],\n",
       "       [ -2.34473854],\n",
       "       [ 39.3294153 ],\n",
       "       [ 16.68715211],\n",
       "       [ 96.58888601],\n",
       "       [ 97.70342201],\n",
       "       [ 67.01715955],\n",
       "       [ 25.63476257],\n",
       "       [ 13.41310757],\n",
       "       [ 95.15647284],\n",
       "       [  9.74416426],\n",
       "       [ -3.46788379],\n",
       "       [ 62.82816355],\n",
       "       [ 97.27405461],\n",
       "       [ 95.58017185],\n",
       "       [  7.46850184],\n",
       "       [ 45.44599591],\n",
       "       [ 46.69013968],\n",
       "       [ 74.4993599 ],\n",
       "       [ 21.63500655],\n",
       "       [ 91.59548851],\n",
       "       [ 26.49487961],\n",
       "       [ 67.38654703],\n",
       "       [ 74.25362837],\n",
       "       [ 12.07991648],\n",
       "       [ 21.32273728],\n",
       "       [ 29.31770045],\n",
       "       [ 26.48713683],\n",
       "       [ 68.94699774],\n",
       "       [ 59.10598995],\n",
       "       [ 64.37521087],\n",
       "       [ 60.20758349],\n",
       "       [ 70.34329706],\n",
       "       [ 97.1082562 ],\n",
       "       [ 75.7584178 ],\n",
       "       [ 10.80462727],\n",
       "       [ 12.11219941],\n",
       "       [ 63.28312382],\n",
       "       [ 98.03017721],\n",
       "       [ 63.19354354],\n",
       "       [ 34.8534823 ],\n",
       "       [ -2.81991397],\n",
       "       [ 59.8313966 ],\n",
       "       [ 29.38505024],\n",
       "       [ 97.00148372],\n",
       "       [ 85.18657275],\n",
       "       [ 61.74063192],\n",
       "       [ 18.84798163],\n",
       "       [ 78.79008525],\n",
       "       [ 95.12400481],\n",
       "       [ 30.48881287],\n",
       "       [ 10.41468095],\n",
       "       [ 38.98317436],\n",
       "       [ 46.11021062],\n",
       "       [ 52.45103628],\n",
       "       [ 21.16523945],\n",
       "       [ 52.28620611],\n",
       "       [ 44.18863945],\n",
       "       [ 97.13832018],\n",
       "       [ 67.22008001],\n",
       "       [ 18.98322306],\n",
       "       [ 24.3884599 ],\n",
       "       [ 79.44769523],\n",
       "       [ 40.03504862],\n",
       "       [ 53.32005764],\n",
       "       [ 54.55446979],\n",
       "       [ -2.7611826 ],\n",
       "       [ 37.80182795],\n",
       "       [ 57.48741435],\n",
       "       [ 36.06292994],\n",
       "       [ 49.83538167],\n",
       "       [ 74.68953276],\n",
       "       [ 14.86159401],\n",
       "       [101.0697879 ],\n",
       "       [ 99.43577876],\n",
       "       [ 91.69240746],\n",
       "       [ 34.12473248],\n",
       "       [  6.07939007],\n",
       "       [ 59.07247174],\n",
       "       [ 56.43046022],\n",
       "       [ 30.49412933],\n",
       "       [ 48.35172635],\n",
       "       [ 89.73153611],\n",
       "       [ 72.86282528],\n",
       "       [ 80.97144285],\n",
       "       [ 91.36566374],\n",
       "       [ 60.07137496],\n",
       "       [ 99.87382707],\n",
       "       [  8.65571417],\n",
       "       [ 69.39858505],\n",
       "       [ 19.38780134],\n",
       "       [ 53.11628433],\n",
       "       [ 78.39683006],\n",
       "       [ 25.75612514],\n",
       "       [ 75.07484683],\n",
       "       [ 92.88772282],\n",
       "       [ 69.45498498],\n",
       "       [ 13.12109842],\n",
       "       [ 48.09843134],\n",
       "       [ 79.3142548 ],\n",
       "       [ 68.48820749],\n",
       "       [ 73.2300846 ],\n",
       "       [ 24.68362712],\n",
       "       [ 41.90368917],\n",
       "       [ 62.22635684],\n",
       "       [ 45.96396877],\n",
       "       [ 23.52647153],\n",
       "       [ 51.80035866],\n",
       "       [ 51.10774273],\n",
       "       [ 95.79747345],\n",
       "       [  9.24113898],\n",
       "       [  7.64652976],\n",
       "       [  9.28169975],\n",
       "       [103.5266162 ],\n",
       "       [ 47.41006725],\n",
       "       [ 42.03835773],\n",
       "       [ 96.11982476],\n",
       "       [ 38.05766408],\n",
       "       [105.4503788 ],\n",
       "       [ 88.80306911],\n",
       "       [ 15.49301141],\n",
       "       [ 12.42624606],\n",
       "       [ 40.00709598],\n",
       "       [  5.6340309 ],\n",
       "       [ 87.36938931],\n",
       "       [ 89.73951993],\n",
       "       [ 66.61499643],\n",
       "       [ 72.9138853 ],\n",
       "       [ 57.19103506],\n",
       "       [ 11.21710477],\n",
       "       [  0.67607675],\n",
       "       [ 28.15668543],\n",
       "       [ 95.3958003 ],\n",
       "       [ 52.05490703],\n",
       "       [ 59.70864577],\n",
       "       [ 36.79224762],\n",
       "       [ 37.08457698],\n",
       "       [ 24.18437976],\n",
       "       [ 67.28725332],\n",
       "       [ 82.870594  ],\n",
       "       [ 89.899991  ],\n",
       "       [ 36.94173178],\n",
       "       [ 19.87562242],\n",
       "       [ 90.71481654],\n",
       "       [ 61.09367762],\n",
       "       [ 60.11134958],\n",
       "       [ 64.83296316],\n",
       "       [ 81.40381769],\n",
       "       [ 92.40217686],\n",
       "       [  2.57662538],\n",
       "       [ 63.80768172],\n",
       "       [ 38.67780759],\n",
       "       [ 16.82839701],\n",
       "       [ 99.78687252],\n",
       "       [ 44.68913433],\n",
       "       [ 71.00377824],\n",
       "       [ 51.57326718],\n",
       "       [ 19.87846479],\n",
       "       [ 79.50341495],\n",
       "       [ 34.58876491],\n",
       "       [ 55.7383467 ],\n",
       "       [ 68.19721905],\n",
       "       [ 55.81628509],\n",
       "       [  9.3914168 ],\n",
       "       [ 56.01448111],\n",
       "       [ 77.9969477 ],\n",
       "       [ 55.37049953],\n",
       "       [ 11.89457829],\n",
       "       [ 94.79081712],\n",
       "       [ 25.69041546],\n",
       "       [ 53.52042319],\n",
       "       [ 18.31396758],\n",
       "       [ 21.42637785],\n",
       "       [ 30.41303282],\n",
       "       [ 67.68142149],\n",
       "       [ 17.0854783 ],\n",
       "       [ 60.91792707],\n",
       "       [ 14.99514319],\n",
       "       [ 16.74923937],\n",
       "       [ 41.46923883],\n",
       "       [ 42.84526108],\n",
       "       [ 59.12912974],\n",
       "       [ 91.30863673],\n",
       "       [  8.67333636],\n",
       "       [ 39.31485292],\n",
       "       [  5.3136862 ],\n",
       "       [  5.40522052],\n",
       "       [ 68.5458879 ],\n",
       "       [ 47.33487629],\n",
       "       [ 54.09063686],\n",
       "       [ 63.29717058],\n",
       "       [ 52.45946688]])"
      ]
     },
     "execution_count": 57,
     "metadata": {},
     "output_type": "execute_result"
    }
   ],
   "source": [
    "y_test.values"
   ]
  },
  {
   "cell_type": "code",
   "execution_count": 78,
   "id": "c4796968",
   "metadata": {},
   "outputs": [
    {
     "name": "stdout",
     "output_type": "stream",
     "text": [
      "MAE 2.4157718500412586\n"
     ]
    }
   ],
   "source": [
    "print(\"MAE\",mean_absolute_error(y_test,y_pred))"
   ]
  },
  {
   "cell_type": "code",
   "execution_count": 79,
   "id": "0911ddda",
   "metadata": {},
   "outputs": [
    {
     "name": "stdout",
     "output_type": "stream",
     "text": [
      "MSE 9.43292219203931\n"
     ]
    }
   ],
   "source": [
    "print(\"MSE\",mean_squared_error(y_test,y_pred))"
   ]
  },
  {
   "cell_type": "code",
   "execution_count": 80,
   "id": "78ef553c",
   "metadata": {},
   "outputs": [
    {
     "name": "stdout",
     "output_type": "stream",
     "text": [
      "RMSE 1.5542753456325744\n"
     ]
    }
   ],
   "source": [
    "print(\"RMSE\",np.sqrt(mean_absolute_error(y_test,y_pred)))"
   ]
  },
  {
   "cell_type": "code",
   "execution_count": 86,
   "id": "da86c41b",
   "metadata": {},
   "outputs": [
    {
     "name": "stdout",
     "output_type": "stream",
     "text": [
      "R2 Score 0.9888014444327563\n"
     ]
    }
   ],
   "source": [
    "print(\"R2 Score\",r2_score(y_test,y_pred))\n",
    "r2=r2_score(y_test,y_pred)"
   ]
  },
  {
   "cell_type": "code",
   "execution_count": 85,
   "id": "3ef15cce",
   "metadata": {},
   "outputs": [
    {
     "data": {
      "text/plain": [
       "(300, 1)"
      ]
     },
     "execution_count": 85,
     "metadata": {},
     "output_type": "execute_result"
    }
   ],
   "source": [
    "x_test.shape"
   ]
  },
  {
   "cell_type": "code",
   "execution_count": 87,
   "id": "f7dc331c",
   "metadata": {},
   "outputs": [
    {
     "data": {
      "text/plain": [
       "0.9887638653872286"
      ]
     },
     "execution_count": 87,
     "metadata": {},
     "output_type": "execute_result"
    }
   ],
   "source": [
    "##Adjusted R2-score\n",
    "1-((1-r2)*(300-1))/(300-1-1)"
   ]
  },
  {
   "cell_type": "code",
   "execution_count": null,
   "id": "8472bb2a",
   "metadata": {},
   "outputs": [],
   "source": []
  }
 ],
 "metadata": {
  "kernelspec": {
   "display_name": "Python 3 (ipykernel)",
   "language": "python",
   "name": "python3"
  },
  "language_info": {
   "codemirror_mode": {
    "name": "ipython",
    "version": 3
   },
   "file_extension": ".py",
   "mimetype": "text/x-python",
   "name": "python",
   "nbconvert_exporter": "python",
   "pygments_lexer": "ipython3",
   "version": "3.9.12"
  }
 },
 "nbformat": 4,
 "nbformat_minor": 5
}
